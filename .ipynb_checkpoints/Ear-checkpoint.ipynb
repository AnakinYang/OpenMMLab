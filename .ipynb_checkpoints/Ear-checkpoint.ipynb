{
 "cells": [
  {
   "cell_type": "markdown",
   "id": "7477cce1-57c0-4bf0-986f-7e6056422fb6",
   "metadata": {},
   "source": [
    "在 MMDeploy 本地预测步骤，因 miniconda 中的 PIL 问题，导致后续步骤无法进行。\n",
    "```\n",
    "importerror: cannot import name 'is_path' from 'pil._util' (/root/miniconda3/lib/python3.8/site-packages/pil/_util.py)\n",
    "```\n",
    "\n",
    "以下为模型训练的评估指标，及模型转换后的预测结果："
   ]
  },
  {
   "cell_type": "markdown",
   "id": "d26a5300-5061-4fd0-baa3-4b03801d6625",
   "metadata": {},
   "source": [
    "### 模型评估指标\n",
    "- mmdetection\n",
    "![](./static/test_mmdet.jpg)\n",
    "\n",
    "- mmpose\n",
    "![](./static/test_mmpose.jpg)"
   ]
  },
  {
   "cell_type": "markdown",
   "id": "8c11c5d4-8207-40bd-9f5b-4c83d99c0d3a",
   "metadata": {},
   "source": [
    "- 原始图片（图片已加微信ID水印）\n",
    "\n",
    "![](./static/ear.jpg)\n",
    "\n",
    "- rtmdet2onnx 预测图片\n",
    "\n",
    "![](./rtmdet2onnx/output_onnxruntime.jpg)\n",
    "\n",
    "- rtmpose2onnx 预测图片\n",
    "\n",
    "![](./rtmpose2onnx/output_onnxruntime.jpg)"
   ]
  },
  {
   "cell_type": "markdown",
   "id": "a28ba6d3-5b37-4bca-9ac0-1039301da72f",
   "metadata": {},
   "source": [
    "模型训练结果见本仓库中的`rtmdet2onnx`，`rtmpose2onnx`两个文件夹"
   ]
  },
  {
   "cell_type": "markdown",
   "id": "7bc95d06-9e8d-4751-bb72-25d7ee37a89a",
   "metadata": {},
   "source": [
    "---"
   ]
  },
  {
   "cell_type": "markdown",
   "id": "7a30c46f-cbdf-44c3-860a-d91752795b34",
   "metadata": {},
   "source": [
    "# 过程笔记："
   ]
  },
  {
   "cell_type": "markdown",
   "id": "3d714971-6fea-4eb5-bf82-5a9a261e785c",
   "metadata": {},
   "source": [
    "## 环境配置\n",
    "完成 MMPose 和 MMDetection 及相关依赖的安装，验证如下（如无报错，则说明环境安装成功）："
   ]
  },
  {
   "cell_type": "code",
   "execution_count": null,
   "id": "38116c9d-8401-4a18-80a1-f4b964a14552",
   "metadata": {},
   "outputs": [],
   "source": [
    "# 检查 Pytorch\n",
    "import torch, torchvision\n",
    "print('Pytorch 版本', torch.__version__)\n",
    "print('CUDA 是否可用',torch.cuda.is_available())\n",
    "\n",
    "# 检查 mmcv\n",
    "import mmcv\n",
    "from mmcv.ops import get_compiling_cuda_version, get_compiler_version\n",
    "print('MMCV版本', mmcv.__version__)\n",
    "print('CUDA版本', get_compiling_cuda_version())\n",
    "print('编译器版本', get_compiler_version())\n",
    "\n",
    "# 检查 mmpose\n",
    "import mmpose\n",
    "print('mmpose版本', mmpose.__version__)\n",
    "\n",
    "# 检查 mmdet\n",
    "import mmdet\n",
    "print('mmdetection版本', mmdet.__version__)"
   ]
  },
  {
   "cell_type": "markdown",
   "id": "030c7b94-ea9c-462a-8bcf-3d4c70fc73c5",
   "metadata": {},
   "source": [
    "## 准备数据\n",
    "在命令行中使用 unzip 命令解压 Ear210_Dataset_coco.zip 文件，然后用 rm 删除。"
   ]
  },
  {
   "cell_type": "markdown",
   "id": "ccbaf2bc-771b-49db-b8ed-d09457a795fa",
   "metadata": {},
   "source": [
    "## 准备 Config 文件\n",
    "将准备好的 rtmdet_tiny_ear.py 和 rtmpose-s-ear.py 放到 data 路径下。"
   ]
  },
  {
   "cell_type": "markdown",
   "id": "8168db78-0f11-42f8-847a-09d370b07215",
   "metadata": {},
   "source": [
    "## MMDet 训练\n",
    "将上一步中的 data 文件替换到 mmdetection 路径下。\n",
    "结构如下：\n",
    "```\n",
    "mmdetection/data/\n",
    "    Ear210_Keypoint_Dataset_coco/\n",
    "    rtmdet_tiny_ear.py\n",
    "    rtmpose-s-ear.py\n",
    "```"
   ]
  },
  {
   "cell_type": "code",
   "execution_count": 4,
   "id": "bb8370b6-2f41-43b4-899d-21f53ad8ec49",
   "metadata": {},
   "outputs": [
    {
     "data": {
      "text/plain": [
       "'/root/autodl-tmp/MMPose_Tutorials/2023/0524/mmdetection'"
      ]
     },
     "execution_count": 4,
     "metadata": {},
     "output_type": "execute_result"
    }
   ],
   "source": [
    "# 切换路径，并确认路径在 mmdetection\n",
    "import os\n",
    "\n",
    "os.chdir('mmdetection')\n",
    "os.getcwd()"
   ]
  },
  {
   "cell_type": "markdown",
   "id": "9ef24206-c2eb-4484-903d-116ec57908d6",
   "metadata": {},
   "source": [
    "在命令行中执行：\n",
    "```\n",
    "python tools/train.py data/rtmdet_tiny_ear.py\n",
    "```"
   ]
  },
  {
   "cell_type": "markdown",
   "id": "7ec4e9c3-ce24-4507-a61e-b980ea57e9a9",
   "metadata": {},
   "source": [
    "## MMPose 训练\n",
    "同理，切换到 mmpose 路径下后，执行训练"
   ]
  },
  {
   "cell_type": "code",
   "execution_count": null,
   "id": "50853b4a-ef61-4153-adf4-d1bb442fabe3",
   "metadata": {},
   "outputs": [],
   "source": [
    "os.chdir('mmpose')\n",
    "os.getcwd"
   ]
  },
  {
   "cell_type": "markdown",
   "id": "23600071-5a40-449e-9c19-e27d4d85a7f5",
   "metadata": {},
   "source": [
    "如果提示缺少 albumentations 库，执行以下命令安装：\n",
    "```\n",
    "pip install -U albumentations\n",
    "```\n",
    "\n",
    "训练过程中，可能会因 np.float 报错，执行以下命令重新安装：\n",
    "```\n",
    "pip install \"numpy<1.24.0\"\n",
    "```"
   ]
  },
  {
   "cell_type": "markdown",
   "id": "d120a42c-5892-4e72-8f59-20e2b6bcc1a0",
   "metadata": {},
   "source": [
    "然后在命令行中执行：\n",
    "```\n",
    "python tools/train.py data/rtmpose-s-ear.py\n",
    "```"
   ]
  },
  {
   "cell_type": "markdown",
   "id": "878d7fa7-b9fe-40c7-a950-19205b688d2c",
   "metadata": {},
   "source": [
    "## 评估测试集\n",
    "分别在测试集上评估模型精度：\n",
    "\n",
    "mmdetection\n",
    "```\n",
    "python tools/test.py data/rtmdet_tiny_ear.py \\\n",
    "                      work_dirs/rtmdet_tiny_ear/best_coco_bbox_mAP_epoch_199.pth\n",
    "```\n",
    "\n",
    "mmpose\n",
    "```\n",
    "python tools/test.py data/rtmpose-s-ear.py \\\n",
    "                      work_dirs/rtmpose-s-ear/best_PCK_epoch_300.pth\n",
    "```"
   ]
  },
  {
   "cell_type": "markdown",
   "id": "024dee83-6b55-492f-85f7-ea35f24871ad",
   "metadata": {},
   "source": [
    "## 模型转换\n",
    "分别转换 mmdet 和 mmpose：\n",
    "\n",
    "mmdetection\n",
    "```\n",
    "python tools/model_converters/publish_model.py \\\n",
    "        work_dirs/rtmdet_tiny_ear/best_coco_bbox_mAP_epoch_199.pth \\\n",
    "        checkpoint/fixed_rtmdet.pth\n",
    "```\n",
    "\n",
    "mmpose\n",
    "```\n",
    "python tools/misc/publish_model.py \\\n",
    "        work_dirs/rtmpose-s-ear/best_PCK_epoch_300.pth \\\n",
    "        checkpoint/fixed_rtmpose.pth\n",
    "```"
   ]
  },
  {
   "cell_type": "markdown",
   "id": "815e43c6-9ce7-48be-b697-68c9ba848813",
   "metadata": {},
   "source": [
    "## 模型部署\n",
    "### 环境配置\n",
    "```\n",
    "pip install mmdeploy==1.0.0 onnxruntime-gpu\n",
    "git clone https://github.com/open-mmlab/mmdeploy.git\n",
    "```"
   ]
  },
  {
   "cell_type": "code",
   "execution_count": 8,
   "id": "2b87d847-2036-4531-b928-e8555f6a20e1",
   "metadata": {},
   "outputs": [
    {
     "name": "stdout",
     "output_type": "stream",
     "text": [
      "MMDeploy 版本 1.0.0\n"
     ]
    }
   ],
   "source": [
    "## 验证安装\n",
    "import mmdeploy\n",
    "print('MMDeploy 版本', mmdeploy.__version__)"
   ]
  },
  {
   "cell_type": "markdown",
   "id": "8b0886d2-1b1b-47aa-a085-9368147e5c19",
   "metadata": {},
   "source": [
    "### 模型转ONNX"
   ]
  },
  {
   "cell_type": "code",
   "execution_count": 10,
   "id": "2e75abd7-23e6-40c8-9116-d3227617ddee",
   "metadata": {},
   "outputs": [],
   "source": [
    "import os\n",
    "os.chdir('../mmdeploy')"
   ]
  },
  {
   "cell_type": "markdown",
   "id": "e2490449-edb8-4b4e-b408-3fa9b0db3c3c",
   "metadata": {},
   "source": [
    "mmdetection:"
   ]
  },
  {
   "cell_type": "code",
   "execution_count": null,
   "id": "7e3f17ef-b3df-437e-bab3-f801f75ddceb",
   "metadata": {},
   "outputs": [],
   "source": [
    "!python tools/deploy.py \\\n",
    "        configs/mmdet/detection/detection_onnxruntime_dynamic.py \\\n",
    "        ../mmdetection/data/rtmdet_tiny_ear.py \\\n",
    "        ../mmdetection/checkpoint/fixed_rtmdet-3378ee08.pth \\\n",
    "        ../mmdetection/data/test/ear.jpg \\\n",
    "        --work-dir ../rtmdet2onnx \\\n",
    "        --dump-info"
   ]
  },
  {
   "cell_type": "markdown",
   "id": "f164e5f9-2250-4de0-8691-4eacdc8de9ad",
   "metadata": {},
   "source": [
    "mmpose:"
   ]
  },
  {
   "cell_type": "code",
   "execution_count": null,
   "id": "01670670-0150-4e88-af22-3711f870b289",
   "metadata": {},
   "outputs": [],
   "source": [
    "!python tools/deploy.py \\\n",
    "        configs/mmpose/pose-detection_simcc_onnxruntime_dynamic.py \\\n",
    "        ../mmpose/data/rtmpose-s-ear.py \\\n",
    "        ../mmpose/checkpoint/fixed_rtmpose-106c19a1_20230604.pth \\\n",
    "        ../mmpose/data/test/ear.jpg \\\n",
    "        --work-dir ../rtmpose2onnx \\\n",
    "        --dump-info"
   ]
  },
  {
   "cell_type": "markdown",
   "id": "5ea8d1e1-9793-44c5-a58c-0da214659e80",
   "metadata": {},
   "source": [
    "## 模型预测-单张图片"
   ]
  },
  {
   "cell_type": "markdown",
   "id": "7ebd5a99-cd79-4de6-bb10-ac0ba55c6a31",
   "metadata": {},
   "source": [
    "### 环境配置\n",
    "```\n",
    "pip install mmdeploy-runtime-gpu==1.0.0\n",
    "pip install matplotlib tqdm opencv-python tqdm\n",
    "pip install onnxruntime-gpu==1.8.1\n",
    "```\n",
    "### 载入模型"
   ]
  },
  {
   "cell_type": "code",
   "execution_count": 27,
   "id": "1e7a28d7-a6c3-4a9e-b863-e1ec552f71fe",
   "metadata": {},
   "outputs": [
    {
     "data": {
      "text/plain": [
       "'/root/autodl-tmp/MMPose_Tutorials/2023/0524'"
      ]
     },
     "execution_count": 27,
     "metadata": {},
     "output_type": "execute_result"
    }
   ],
   "source": [
    "os.chdir('../')\n",
    "os.getcwd()"
   ]
  },
  {
   "cell_type": "code",
   "execution_count": 29,
   "id": "ec7f8e2f-37d7-441d-b2c7-d5777e9fc8df",
   "metadata": {},
   "outputs": [
    {
     "name": "stdout",
     "output_type": "stream",
     "text": [
      "[2023-06-04 08:17:31.106] [mmdeploy] [info] [model.cpp:35] [DirectoryModel] Load model: \"rtmdet2onnx\"\n",
      "[2023-06-04 08:17:31.107] [mmdeploy] [error] [net_module.cpp:47] Net backend not found: onnxruntime, available backends: []\n",
      "[2023-06-04 08:17:31.107] [mmdeploy] [error] [task.cpp:99] error parsing config: {\n",
      "  \"context\": {\n",
      "    \"device\": \"<any>\",\n",
      "    \"model\": \"<any>\",\n",
      "    \"stream\": \"<any>\"\n",
      "  },\n",
      "  \"input\": [\n",
      "    \"prep_output\"\n",
      "  ],\n",
      "  \"input_map\": {\n",
      "    \"img\": \"input\"\n",
      "  },\n",
      "  \"is_batched\": true,\n",
      "  \"module\": \"Net\",\n",
      "  \"name\": \"rtmdet\",\n",
      "  \"output\": [\n",
      "    \"infer_output\"\n",
      "  ],\n",
      "  \"output_map\": {},\n",
      "  \"type\": \"Task\"\n",
      "}\n",
      "[2023-06-04 08:17:31.107] [mmdeploy] [info] [model.cpp:35] [DirectoryModel] Load model: \"rtmpose2onnx\"\n",
      "[2023-06-04 08:17:31.107] [mmdeploy] [error] [net_module.cpp:47] Net backend not found: onnxruntime, available backends: []\n",
      "[2023-06-04 08:17:31.107] [mmdeploy] [error] [task.cpp:99] error parsing config: {\n",
      "  \"context\": {\n",
      "    \"device\": \"<any>\",\n",
      "    \"model\": \"<any>\",\n",
      "    \"stream\": \"<any>\"\n",
      "  },\n",
      "  \"input\": [\n",
      "    \"prep_output\"\n",
      "  ],\n",
      "  \"input_map\": {\n",
      "    \"img\": \"input\"\n",
      "  },\n",
      "  \"is_batched\": true,\n",
      "  \"module\": \"Net\",\n",
      "  \"name\": \"topdownposeestimator\",\n",
      "  \"output\": [\n",
      "    \"infer_output\"\n",
      "  ],\n",
      "  \"output_map\": {},\n",
      "  \"type\": \"Task\"\n",
      "}\n"
     ]
    }
   ],
   "source": [
    "import cv2\n",
    "import numpy as np\n",
    "import time\n",
    "from tqdm import tqdm\n",
    "\n",
    "from mmdeploy_runtime import Detector\n",
    "from mmdeploy_runtime import PoseDetector\n",
    "\n",
    "# import matplotlib.pyplot as plt\n",
    "\n",
    "# 载入单张图片\n",
    "img_path = 'single_image/ear.jpg'\n",
    "img_bgr = cv2.imread(img_path)\n",
    "\n",
    "# 目标检测模型目录\n",
    "detect = 'rtmdet2onnx'\n",
    "\n",
    "# 关键点检测模型目录\n",
    "pose = 'rtmpose2onnx'\n",
    "\n",
    "# 计算设备\n",
    "device = 'cuda'\n",
    "\n",
    "bbox_detector = Detector(detect, device)\n",
    "pose_detector = PoseDetector(pose, device)"
   ]
  },
  {
   "cell_type": "code",
   "execution_count": null,
   "id": "28a0a174-7eb9-4d35-8714-de80cfd30e75",
   "metadata": {},
   "outputs": [],
   "source": []
  }
 ],
 "metadata": {
  "kernelspec": {
   "display_name": "Python 3 (ipykernel)",
   "language": "python",
   "name": "python3"
  },
  "language_info": {
   "codemirror_mode": {
    "name": "ipython",
    "version": 3
   },
   "file_extension": ".py",
   "mimetype": "text/x-python",
   "name": "python",
   "nbconvert_exporter": "python",
   "pygments_lexer": "ipython3",
   "version": "3.8.16"
  }
 },
 "nbformat": 4,
 "nbformat_minor": 5
}
