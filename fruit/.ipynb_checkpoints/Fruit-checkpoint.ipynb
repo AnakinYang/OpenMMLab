{
 "cells": [
  {
   "cell_type": "markdown",
   "id": "cbf1a0cc-4c6a-4167-ae97-604eebff1c33",
   "metadata": {},
   "source": [
    "## 环境检测"
   ]
  },
  {
   "cell_type": "code",
   "execution_count": 2,
   "id": "3993eca2-c3c8-4bdd-b982-7ee11cbaf4d5",
   "metadata": {
    "tags": []
   },
   "outputs": [
    {
     "name": "stdout",
     "output_type": "stream",
     "text": [
      "2.0.0+cu118\n"
     ]
    },
    {
     "data": {
      "text/plain": [
       "True"
      ]
     },
     "execution_count": 2,
     "metadata": {},
     "output_type": "execute_result"
    }
   ],
   "source": [
    "import torch\n",
    "\n",
    "print(torch.__version__)\n",
    "torch.cuda.is_available()"
   ]
  },
  {
   "cell_type": "markdown",
   "id": "b0077d61-ffc3-4ffe-88ba-ad778d4fb8c7",
   "metadata": {},
   "source": [
    "## 环境安装\n",
    "因为要基于 MMPretrain 进行训练，所以基于源码使用；如果只要使用其中几个模块，直接安装即可。"
   ]
  },
  {
   "cell_type": "markdown",
   "id": "237e05d5-978f-4664-93e7-be282de597e8",
   "metadata": {},
   "source": [
    "命令行中执行：\n",
    "```\n",
    "git clone https://github.com/open-mmlab/mmpretrain\n",
    "cd mmpretrain\n",
    "pip install openmim\n",
    "```"
   ]
  },
  {
   "cell_type": "markdown",
   "id": "ed9b8a16-985c-4b72-a83d-9cc6cae6bb5d",
   "metadata": {},
   "source": [
    "使用 `mim --help` 查看帮助信息；\n",
    "使用以下命令安装多模态所需的额外依赖：\n",
    "```\n",
    "mim install -e \".[multimodal]\"\n",
    "```"
   ]
  },
  {
   "cell_type": "code",
   "execution_count": null,
   "id": "e008fa7e-c51b-4a7f-89d0-4a09dd22a871",
   "metadata": {
    "tags": []
   },
   "outputs": [],
   "source": [
    "# 以下命令在 IPython 中执行\n",
    "\n",
    "# 查看 mmpretrain 的版本\n",
    "import mmpretrain\n",
    "\n",
    "print(mmpretrain.__version__)\n",
    "\n",
    "# 使用预训练模型查看推理效果\n",
    "from mmpretrain import get_model, list_models, inference_model\n",
    "\n",
    "# 查看模型\n",
    "list_models(task='Image Classification', pattern='resnet18')\n",
    "list_models(task='Image Caption', pattern='blip') \n",
    "\n",
    "# 查看模型类型\n",
    "model = get_model('resnet18_8xb16_cifar10') \n",
    "type(model)\n",
    "\n",
    "# 查看模型的骨干网络\n",
    "model = get_model('resnet18_8xb32_in1k') \n",
    "type(model.backbone)"
   ]
  },
  {
   "cell_type": "markdown",
   "id": "5d019cc6-415d-498a-ae29-5870e495b187",
   "metadata": {},
   "source": [
    "## 推理测试"
   ]
  },
  {
   "cell_type": "code",
   "execution_count": null,
   "id": "f23072fe-82ad-4660-83c2-83b1157172d3",
   "metadata": {
    "tags": []
   },
   "outputs": [],
   "source": [
    "import mmpretrain\n",
    "from mmpretrain import get_model, list_models, inference_model\n",
    "\n",
    "list_models(task='Image Caption', pattern='blip')\n",
    "inference_model('blip-base_3rdparty_caption', 'demo/cat-dog.png',show=True) "
   ]
  },
  {
   "cell_type": "markdown",
   "id": "121c214a-6a74-4ab2-b169-96d914515747",
   "metadata": {},
   "source": [
    "## 模型训练\n",
    "### 准备数据"
   ]
  },
  {
   "cell_type": "code",
   "execution_count": 15,
   "id": "25db59d3-2432-4840-9404-dddd3e4b5f2f",
   "metadata": {
    "tags": []
   },
   "outputs": [],
   "source": [
    "import os\n",
    "import random\n",
    "import shutil\n",
    "\n",
    "os.chdir('mmpretrain')"
   ]
  },
  {
   "cell_type": "code",
   "execution_count": null,
   "id": "b2d57db1-5103-4ee8-ae8c-f0b81972583a",
   "metadata": {
    "tags": []
   },
   "outputs": [],
   "source": [
    "# 定义常量\n",
    "DATA_DIR = \"data\"\n",
    "NUM_IMAGES_PER_FRUIT = 100\n",
    "NUM_IMAGES_TO_CUT = 10\n",
    "\n",
    "# 获取所有水果分类文件夹的名称\n",
    "fruit_dirs = os.listdir(DATA_DIR)\n",
    "\n",
    "# 循环遍历每个水果分类文件夹\n",
    "for fruit_dir in fruit_dirs:\n",
    "    # 构造水果分类文件夹的路径和新文件夹的路径\n",
    "    fruit_path = os.path.join(DATA_DIR, fruit_dir)\n",
    "    new_fruit_path = os.path.join(DATA_DIR, \"new_\" + fruit_dir)\n",
    "    \n",
    "    # 如果新文件夹不存在，则创建它\n",
    "    if not os.path.exists(new_fruit_path):\n",
    "        os.mkdir(new_fruit_path)\n",
    "    \n",
    "    # 获取当前水果分类文件夹中所有图片的路径\n",
    "    image_paths = [os.path.join(fruit_path, img) for img in os.listdir(fruit_path)]\n",
    "    \n",
    "    # 随机从当前水果分类文件夹中选择10张图片，并将它们剪切到新文件夹中\n",
    "    selected_images = random.sample(image_paths, NUM_IMAGES_TO_CUT)\n",
    "    for img_path in selected_images:\n",
    "        img_name = os.path.basename(img_path)\n",
    "        new_img_path = os.path.join(new_fruit_path, img_name)\n",
    "        shutil.move(img_path, new_img_path)"
   ]
  },
  {
   "cell_type": "markdown",
   "id": "8e4b7581-1ec2-4305-a1ea-7cc1f7b1b180",
   "metadata": {},
   "source": [
    "上述代码从每个水果分类中随机抽取 10 张图片作为验证集。"
   ]
  },
  {
   "cell_type": "markdown",
   "id": "a3653116-6671-450b-aecd-15b683e9559c",
   "metadata": {},
   "source": [
    "## 模型选择\n",
    "在命令行中执行以下命令查看模型对应的配置文件并查看：\n",
    "```\n",
    "ls configs/resnet/\n",
    "vi configs/resnet/resnet50_8xb32_in1k.py\n",
    "```\n",
    "显示如下：\n",
    "```\n",
    "_base_ = [\n",
    "    '../_base_/models/resnet50.py', '../_base_/datasets/imagenet_bs32.py',\n",
    "    '../_base_/schedules/imagenet_bs256.py', '../_base_/default_runtime.py'\n",
    "]\n",
    "```\n",
    "分别对应：模型(model)、数据(data)、训练策略(schedule)、运行设置(runtime)"
   ]
  },
  {
   "cell_type": "markdown",
   "id": "1ec768ad-b122-40de-a599-6f172910d05c",
   "metadata": {},
   "source": [
    "## 编写配置文件\n",
    "从上述四个文件中复制内容到一个配置文件中。\n",
    "```\n",
    "mkdir project/fruit\n",
    "vi fruit_resnet50_finetune.py\n",
    "```"
   ]
  },
  {
   "cell_type": "markdown",
   "id": "de6bfa06-a0b0-4f31-ac77-35ca84e54664",
   "metadata": {},
   "source": [
    "```\n",
    "############################################ model settings ###########################################\n",
    "# model settings\n",
    "model = dict(\n",
    "    type='ImageClassifier',\n",
    "    backbone=dict(\n",
    "        type='ResNet',\n",
    "        depth=50,\n",
    "        num_stages=4,\n",
    "        out_indices=(3, ),\n",
    "        style='pytorch'),\n",
    "    neck=dict(type='GlobalAveragePooling'),\n",
    "    head=dict(\n",
    "        type='LinearClsHead',\n",
    "        num_classes=30,\n",
    "        in_channels=2048,\n",
    "        loss=dict(type='CrossEntropyLoss', loss_weight=1.0),\n",
    "        topk=(1, 5),\n",
    "    ),\n",
    "    init_cfg=dict(type='Pretrained', checkpoint='https://download.openmmlab.com/mmclassification/v0/resnet/resnet50_8xb32_in1k_20210831-ea4938fc.pth')\n",
    ")\n",
    "\n",
    "############################################ dataset settings###########################################\n",
    "dataset_type = 'ImageNet'\n",
    "data_preprocessor = dict(\n",
    "    num_classes=1000,\n",
    "    # RGB format normalization parameters\n",
    "    mean=[123.675, 116.28, 103.53],\n",
    "    std=[58.395, 57.12, 57.375],\n",
    "    # convert image from BGR to RGB\n",
    "    to_rgb=True,\n",
    ")\n",
    "\n",
    "train_pipeline = [\n",
    "    dict(type='LoadImageFromFile'),\n",
    "    dict(type='RandomResizedCrop', scale=224),\n",
    "    dict(type='RandomFlip', prob=0.5, direction='horizontal'),\n",
    "    dict(type='PackInputs'),\n",
    "]\n",
    "\n",
    "test_pipeline = [\n",
    "    dict(type='LoadImageFromFile'),\n",
    "    dict(type='ResizeEdge', scale=256, edge='short'),\n",
    "    dict(type='CenterCrop', crop_size=224),\n",
    "    dict(type='PackInputs'),\n",
    "]\n",
    "\n",
    "train_dataloader = dict(\n",
    "    batch_size=32,\n",
    "    num_workers=5,\n",
    "    dataset=dict(\n",
    "        type=dataset_type,\n",
    "        data_root='data/imagenet',\n",
    "        ann_file='meta/train.txt',\n",
    "        data_prefix='train',\n",
    "        pipeline=train_pipeline),\n",
    "    sampler=dict(type='DefaultSampler', shuffle=True),\n",
    ")\n",
    "\n",
    "val_dataloader = dict(\n",
    "    batch_size=32,\n",
    "    num_workers=5,\n",
    "    dataset=dict(\n",
    "        type=dataset_type,\n",
    "        data_root='data/imagenet',\n",
    "        ann_file='meta/val.txt',\n",
    "        data_prefix='val',\n",
    "        pipeline=test_pipeline),\n",
    "    sampler=dict(type='DefaultSampler', shuffle=False),\n",
    ")\n",
    "val_evaluator = dict(type='Accuracy', topk=(1, 5))\n",
    "\n",
    "# If you want standard test, please manually configure the test dataset\n",
    "test_dataloader = val_dataloader\n",
    "test_evaluator = val_evaluator\n",
    "\n",
    "############################################ schedules ###########################################\n",
    "# optimizer\n",
    "optim_wrapper = dict(\n",
    "    optimizer=dict(type='SGD', lr=0.1, momentum=0.9, weight_decay=0.0001))\n",
    "\n",
    "# learning policy\n",
    "param_scheduler = dict(\n",
    "    type='MultiStepLR', by_epoch=True, milestones=[30, 60, 90], gamma=0.1)\n",
    "\n",
    "# train, val, test setting\n",
    "train_cfg = dict(by_epoch=True, max_epochs=100, val_interval=1)\n",
    "val_cfg = dict()\n",
    "test_cfg = dict()\n",
    "\n",
    "# NOTE: `auto_scale_lr` is for automatically scaling LR,\n",
    "# based on the actual training batch size.\n",
    "auto_scale_lr = dict(base_batch_size=256)\n",
    "\n",
    "############################################ runtime ###########################################\n",
    "default_scope = 'mmpretrain'\n",
    "\n",
    "# configure default hooks\n",
    "default_hooks = dict(\n",
    "    # record the time of every iteration.\n",
    "    timer=dict(type='IterTimerHook'),\n",
    "\n",
    "    # print log every 100 iterations.\n",
    "    logger=dict(type='LoggerHook', interval=100),\n",
    "\n",
    "    # enable the parameter scheduler.\n",
    "    param_scheduler=dict(type='ParamSchedulerHook'),\n",
    "\n",
    "    # save checkpoint per epoch.\n",
    "    checkpoint=dict(type='CheckpointHook', interval=1, max_keep_ckpts=5, save_best='auto'),\n",
    "\n",
    "    # set sampler seed in distributed evrionment.\n",
    "    sampler_seed=dict(type='DistSamplerSeedHook'),\n",
    "\n",
    "    # validation results visualization, set True to enable it.\n",
    "    visualization=dict(type='VisualizationHook', enable=False),\n",
    ")\n",
    "\n",
    "# configure environment\n",
    "env_cfg = dict(\n",
    "    # whether to enable cudnn benchmark\n",
    "    cudnn_benchmark=False,\n",
    "\n",
    "    # set multi process parameters\n",
    "    mp_cfg=dict(mp_start_method='fork', opencv_num_threads=0),\n",
    "\n",
    "    # set distributed parameters\n",
    "    dist_cfg=dict(backend='nccl'),\n",
    ")\n",
    "\n",
    "# set visualizer\n",
    "vis_backends = [dict(type='LocalVisBackend')]\n",
    "visualizer = dict(type='UniversalVisualizer', vis_backends=vis_backends)\n",
    "\n",
    "# set log level\n",
    "log_level = 'INFO'\n",
    "\n",
    "# load from which checkpoint\n",
    "load_from = None\n",
    "\n",
    "# whether to resume training from the loaded checkpoint\n",
    "resume = False\n",
    "\n",
    "# Defaults to use random seed and disable `deterministic`\n",
    "randomness = dict(seed=None, deterministic=False)\n",
    "```"
   ]
  },
  {
   "cell_type": "markdown",
   "id": "befaba5b-4b3c-40ce-a8b1-56db884124c0",
   "metadata": {
    "tags": []
   },
   "source": [
    "## 开始训练\n",
    "在 project 路径下，命令行中执行：\n",
    "```\n",
    "mim train mmpretrain fruit_resnet50_finetune.py --work-dir=./exp\n",
    "```"
   ]
  },
  {
   "cell_type": "code",
   "execution_count": null,
   "id": "9ddc7688-6b93-4c66-b123-bd6bd56529f2",
   "metadata": {},
   "outputs": [],
   "source": []
  }
 ],
 "metadata": {
  "kernelspec": {
   "display_name": "Python 3 (ipykernel)",
   "language": "python",
   "name": "python3"
  },
  "language_info": {
   "codemirror_mode": {
    "name": "ipython",
    "version": 3
   },
   "file_extension": ".py",
   "mimetype": "text/x-python",
   "name": "python",
   "nbconvert_exporter": "python",
   "pygments_lexer": "ipython3",
   "version": "3.8.10"
  }
 },
 "nbformat": 4,
 "nbformat_minor": 5
}
